{
 "cells": [
  {
   "cell_type": "markdown",
   "metadata": {},
   "source": [
    "# Phase I: Data Preparation"
   ]
  },
  {
   "cell_type": "markdown",
   "metadata": {},
   "source": [
    "# Psuedocode"
   ]
  },
  {
   "cell_type": "code",
   "execution_count": 6,
   "metadata": {},
   "outputs": [
    {
     "data": {
      "text/plain": [
       "'\\n● A recommendation program that will suggest a movie to watch based on a vector similarity of the description of movies\\n● Satrt\\n● Create a file named movieREcommenderApp.ipynb\\n● Phase 1: Data Preparation - Loading and Initial Data Cleaning\\n    ● Import pandas\\n    ● Load the movies.txt text file sperated by colon and give the columns a title (title and description)\\n    ● View the first five rows\\n    ● Have some information about the nature of the dataset\\n● Phase 2: NLP Preprocessing - Preprocessing function\\n    ● import spacy\\n    ● load the language model based on the priorities\\n    ● Define a function called preprocess\\n        ● The function takes an argument of the text file\\n        ● Process the text in the langauge model\\n        ● Assign it to a variable called \"doc\"\\n        ● Create a list of lematised words with all words with less meaning and punctuations removed from the description of the movies\\n    ● Apply the preprocessing function\\n        ● Create another coulmn (processed_descriptions)\\n        ● Call the preprocess function and apply it on the description column in the movies.txt files\\n        ● Assign the the processed description to the column created (processed_descriptions)\\n● Phase 3: Feature Extraction\\n    ● Extracting Word Vectors\\n        ● Define a function that vectorise the \"preprocessed_description\"\\n        ● Apply the function and vectorise the lematised description\\n        ● Assign the vectorised descriptions to a new column (vector)\\n● Phase 4: Building the Recommendatoion System\\n    ● Using sklearn.metrics.pairwise import cosine_similarity\\n    ● Define a function for the recommendation (movie_recommendation)\\n        ● The function takes two parameters\\n        ● Apply the preproces function to lematise, remove stop-words, and punctuations and, vectorise the description that is taken as a parameter\\n        ● Reshape the input parameter for compatibility with cosine_similarity\\n        ● Calculate the cosine similarity between the input vector and the vectors of the movie descriptions \\n        ● Get top N similarities\\n        ● Get movie titles based on top N similarities\\n        ● Get the corresponding similarity scores of the top N movie titles\\n        ● Combine titles and scores into a list of tuples\\n        ● Return the movie recommendations\\n● Phase 5: Evalaution and Refinement\\n    ● pass a description to the movie recommendation function as a parameter\\n    ● Execute and get an output of the the top 5 recommendations\\n'"
      ]
     },
     "execution_count": 6,
     "metadata": {},
     "output_type": "execute_result"
    }
   ],
   "source": [
    "\"\"\"\n",
    "● A recommendation program that will suggest a movie to watch based on a vector similarity of the description of movies\n",
    "● Satrt\n",
    "● Create a file named movieREcommenderApp.ipynb\n",
    "● Phase 1: Data Preparation - Loading and Initial Data Cleaning\n",
    "    ● Import pandas\n",
    "    ● Load the movies.txt text file sperated by colon and give the columns a title (title and description)\n",
    "    ● View the first five rows\n",
    "    ● Have some information about the nature of the dataset\n",
    "● Phase 2: NLP Preprocessing - Preprocessing function\n",
    "    ● import spacy\n",
    "    ● load the language model based on the priorities\n",
    "    ● Define a function called preprocess\n",
    "        ● The function takes an argument of the text file\n",
    "        ● Process the text in the langauge model\n",
    "        ● Assign it to a variable called \"doc\"\n",
    "        ● Create a list of lematised words with all words with less meaning and punctuations removed from the description of the movies\n",
    "    ● Apply the preprocessing function\n",
    "        ● Create another coulmn (processed_descriptions)\n",
    "        ● Call the preprocess function and apply it on the description column in the movies.txt files\n",
    "        ● Assign the the processed description to the column created (processed_descriptions)\n",
    "● Phase 3: Feature Extraction\n",
    "    ● Extracting Word Vectors\n",
    "        ● Define a function that vectorise the \"preprocessed_description\"\n",
    "        ● Apply the function and vectorise the lematised description\n",
    "        ● Assign the vectorised descriptions to a new column (vector)\n",
    "● Phase 4: Building the Recommendatoion System\n",
    "    ● Using sklearn.metrics.pairwise import cosine_similarity\n",
    "    ● Define a function for the recommendation (movie_recommendation)\n",
    "        ● The function takes two parameters\n",
    "        ● Apply the preproces function to lematise, remove stop-words, and punctuations and, vectorise the description that is taken as a parameter\n",
    "        ● Reshape the input parameter for compatibility with cosine_similarity\n",
    "        ● Calculate the cosine similarity between the input vector and the vectors of the movie descriptions \n",
    "        ● Get top N similarities\n",
    "        ● Get movie titles based on top N similarities\n",
    "        ● Get the corresponding similarity scores of the top N movie titles\n",
    "        ● Combine titles and scores into a list of tuples\n",
    "        ● Return the movie recommendations\n",
    "● Phase 5: Evalaution and Refinement\n",
    "    ● pass a description to the movie recommendation function as a parameter\n",
    "    ● Execute and get an output of the the top 5 recommendations\n",
    "\"\"\""
   ]
  },
  {
   "cell_type": "markdown",
   "metadata": {},
   "source": [
    "# Phase I: Data Preparation"
   ]
  },
  {
   "cell_type": "markdown",
   "metadata": {},
   "source": [
    "# Loading and Initial Data Cleaning"
   ]
  },
  {
   "cell_type": "code",
   "execution_count": 15,
   "metadata": {},
   "outputs": [
    {
     "name": "stdout",
     "output_type": "stream",
     "text": [
      "      Title                                        Description\n",
      "0  Movie A    When Hiccup discovers Toothless isn't the onl...\n",
      "1  Movie B    After the death of Superman, several new peop...\n",
      "2  Movie C    A darkness swirls at the center of a world-re...\n",
      "3  Movie D    A humorous take on Sir Arthur Conan Doyle's c...\n",
      "4  Movie E    A 16-year-old girl and her extended family ar...\n",
      "5  Movie F    In the last moments of World War II, a young ...\n",
      "6  Movie G    The world at an end, a dying mother sends her...\n",
      "7  Movie H    A musician helps a young singer and actress f...\n",
      "8  Movie I    Corporate analyst and single mom, Jen, tackle...\n",
      "9  Movie J    Adapted from the bestselling novel by Madelei...\n"
     ]
    }
   ],
   "source": [
    "import pandas as pd\n",
    "\n",
    "# Assuming your text file is named \"movies.txt\" and has comma-separated values\n",
    "# Adjust parameters as needed\n",
    "try:\n",
    "    movies_metadata = pd.read_csv(\"movies.txt\", sep=':', names=['Title', 'Description'])\n",
    "    print(movies_metadata)\n",
    "except pd.errors.ParserError as e:\n",
    "    print(\"ParserError:\", e)\n"
   ]
  },
  {
   "cell_type": "code",
   "execution_count": 16,
   "metadata": {},
   "outputs": [
    {
     "data": {
      "text/html": [
       "<div>\n",
       "<style scoped>\n",
       "    .dataframe tbody tr th:only-of-type {\n",
       "        vertical-align: middle;\n",
       "    }\n",
       "\n",
       "    .dataframe tbody tr th {\n",
       "        vertical-align: top;\n",
       "    }\n",
       "\n",
       "    .dataframe thead th {\n",
       "        text-align: right;\n",
       "    }\n",
       "</style>\n",
       "<table border=\"1\" class=\"dataframe\">\n",
       "  <thead>\n",
       "    <tr style=\"text-align: right;\">\n",
       "      <th></th>\n",
       "      <th>Title</th>\n",
       "      <th>Description</th>\n",
       "    </tr>\n",
       "  </thead>\n",
       "  <tbody>\n",
       "    <tr>\n",
       "      <th>0</th>\n",
       "      <td>Movie A</td>\n",
       "      <td>When Hiccup discovers Toothless isn't the onl...</td>\n",
       "    </tr>\n",
       "    <tr>\n",
       "      <th>1</th>\n",
       "      <td>Movie B</td>\n",
       "      <td>After the death of Superman, several new peop...</td>\n",
       "    </tr>\n",
       "    <tr>\n",
       "      <th>2</th>\n",
       "      <td>Movie C</td>\n",
       "      <td>A darkness swirls at the center of a world-re...</td>\n",
       "    </tr>\n",
       "    <tr>\n",
       "      <th>3</th>\n",
       "      <td>Movie D</td>\n",
       "      <td>A humorous take on Sir Arthur Conan Doyle's c...</td>\n",
       "    </tr>\n",
       "    <tr>\n",
       "      <th>4</th>\n",
       "      <td>Movie E</td>\n",
       "      <td>A 16-year-old girl and her extended family ar...</td>\n",
       "    </tr>\n",
       "  </tbody>\n",
       "</table>\n",
       "</div>"
      ],
      "text/plain": [
       "      Title                                        Description\n",
       "0  Movie A    When Hiccup discovers Toothless isn't the onl...\n",
       "1  Movie B    After the death of Superman, several new peop...\n",
       "2  Movie C    A darkness swirls at the center of a world-re...\n",
       "3  Movie D    A humorous take on Sir Arthur Conan Doyle's c...\n",
       "4  Movie E    A 16-year-old girl and her extended family ar..."
      ]
     },
     "execution_count": 16,
     "metadata": {},
     "output_type": "execute_result"
    }
   ],
   "source": [
    "movies_metadata.head()"
   ]
  },
  {
   "cell_type": "code",
   "execution_count": 17,
   "metadata": {},
   "outputs": [
    {
     "name": "stdout",
     "output_type": "stream",
     "text": [
      "<class 'pandas.core.frame.DataFrame'>\n",
      "RangeIndex: 10 entries, 0 to 9\n",
      "Data columns (total 2 columns):\n",
      " #   Column       Non-Null Count  Dtype \n",
      "---  ------       --------------  ----- \n",
      " 0   Title        10 non-null     object\n",
      " 1   Description  10 non-null     object\n",
      "dtypes: object(2)\n",
      "memory usage: 292.0+ bytes\n"
     ]
    }
   ],
   "source": [
    "movies_metadata.info()"
   ]
  },
  {
   "cell_type": "markdown",
   "metadata": {},
   "source": [
    "# Phase II: NLP Preprocessing\n",
    "\n",
    "I shall be using spaCy for text processing to prepare the movie descriptions.\n",
    "\n",
    "## Preprocessing Function"
   ]
  },
  {
   "cell_type": "code",
   "execution_count": 13,
   "metadata": {},
   "outputs": [
    {
     "name": "stderr",
     "output_type": "stream",
     "text": [
      "python: can't open file 'c:\\\\Users\\\\Dr. Karatu Musa\\\\Desktop\\\\HyperionDevBootCamp2023\\\\my_first_venv\\\\get-pip.py': [Errno 2] No such file or directory\n"
     ]
    }
   ],
   "source": [
    "#! python -m pip --version\n",
    "#! python get-pip.py\n"
   ]
  },
  {
   "cell_type": "code",
   "execution_count": 18,
   "metadata": {},
   "outputs": [],
   "source": [
    "import spacy\n",
    "nlp = spacy.load('en_core_web_lg')\n",
    "\n",
    "def preprocess(text):\n",
    "    doc = nlp(text)\n",
    "    return ' '.join([token.lemma_.lower() for token in doc if not token.is_stop and not token.is_punct])"
   ]
  },
  {
   "cell_type": "markdown",
   "metadata": {},
   "source": [
    "## Applying Preprocessing"
   ]
  },
  {
   "cell_type": "code",
   "execution_count": 19,
   "metadata": {},
   "outputs": [],
   "source": [
    "movies_metadata['processed_descriptions'] = movies_metadata['Description'].apply(preprocess)"
   ]
  },
  {
   "cell_type": "code",
   "execution_count": 21,
   "metadata": {},
   "outputs": [
    {
     "data": {
      "text/html": [
       "<div>\n",
       "<style scoped>\n",
       "    .dataframe tbody tr th:only-of-type {\n",
       "        vertical-align: middle;\n",
       "    }\n",
       "\n",
       "    .dataframe tbody tr th {\n",
       "        vertical-align: top;\n",
       "    }\n",
       "\n",
       "    .dataframe thead th {\n",
       "        text-align: right;\n",
       "    }\n",
       "</style>\n",
       "<table border=\"1\" class=\"dataframe\">\n",
       "  <thead>\n",
       "    <tr style=\"text-align: right;\">\n",
       "      <th></th>\n",
       "      <th>Title</th>\n",
       "      <th>Description</th>\n",
       "      <th>processed_descriptions</th>\n",
       "    </tr>\n",
       "  </thead>\n",
       "  <tbody>\n",
       "    <tr>\n",
       "      <th>0</th>\n",
       "      <td>Movie A</td>\n",
       "      <td>When Hiccup discovers Toothless isn't the onl...</td>\n",
       "      <td>hiccup discover toothless night fury seek hi...</td>\n",
       "    </tr>\n",
       "    <tr>\n",
       "      <th>1</th>\n",
       "      <td>Movie B</td>\n",
       "      <td>After the death of Superman, several new peop...</td>\n",
       "      <td>death superman new people present possible s...</td>\n",
       "    </tr>\n",
       "    <tr>\n",
       "      <th>2</th>\n",
       "      <td>Movie C</td>\n",
       "      <td>A darkness swirls at the center of a world-re...</td>\n",
       "      <td>darkness swirl center world renowne dance co...</td>\n",
       "    </tr>\n",
       "    <tr>\n",
       "      <th>3</th>\n",
       "      <td>Movie D</td>\n",
       "      <td>A humorous take on Sir Arthur Conan Doyle's c...</td>\n",
       "      <td>humorous sir arthur conan doyle classic myst...</td>\n",
       "    </tr>\n",
       "    <tr>\n",
       "      <th>4</th>\n",
       "      <td>Movie E</td>\n",
       "      <td>A 16-year-old girl and her extended family ar...</td>\n",
       "      <td>16 year old girl extended family leave reel ...</td>\n",
       "    </tr>\n",
       "  </tbody>\n",
       "</table>\n",
       "</div>"
      ],
      "text/plain": [
       "      Title                                        Description  \\\n",
       "0  Movie A    When Hiccup discovers Toothless isn't the onl...   \n",
       "1  Movie B    After the death of Superman, several new peop...   \n",
       "2  Movie C    A darkness swirls at the center of a world-re...   \n",
       "3  Movie D    A humorous take on Sir Arthur Conan Doyle's c...   \n",
       "4  Movie E    A 16-year-old girl and her extended family ar...   \n",
       "\n",
       "                              processed_descriptions  \n",
       "0    hiccup discover toothless night fury seek hi...  \n",
       "1    death superman new people present possible s...  \n",
       "2    darkness swirl center world renowne dance co...  \n",
       "3    humorous sir arthur conan doyle classic myst...  \n",
       "4    16 year old girl extended family leave reel ...  "
      ]
     },
     "execution_count": 21,
     "metadata": {},
     "output_type": "execute_result"
    }
   ],
   "source": [
    "movies_metadata.head()"
   ]
  },
  {
   "cell_type": "markdown",
   "metadata": {},
   "source": [
    "# Phase 3: Feature Extraction\n",
    "\n",
    "Here the movie descriptions is transformed into numerical vectors using spaCy's word vectors.\n",
    "\n",
    "## Extracting Word Vectors"
   ]
  },
  {
   "cell_type": "code",
   "execution_count": 22,
   "metadata": {},
   "outputs": [],
   "source": [
    "def get_vectorised(text):\n",
    "    doc = nlp(text)\n",
    "    return doc.vector\n",
    "\n",
    "movies_metadata['vector'] = movies_metadata['processed_descriptions'].apply(get_vectorised)"
   ]
  },
  {
   "cell_type": "code",
   "execution_count": 23,
   "metadata": {},
   "outputs": [
    {
     "data": {
      "text/plain": [
       "(300,)"
      ]
     },
     "execution_count": 23,
     "metadata": {},
     "output_type": "execute_result"
    }
   ],
   "source": [
    "movies_metadata['vector'].iloc[0].shape"
   ]
  },
  {
   "cell_type": "code",
   "execution_count": 8,
   "metadata": {},
   "outputs": [
    {
     "data": {
      "text/html": [
       "<div>\n",
       "<style scoped>\n",
       "    .dataframe tbody tr th:only-of-type {\n",
       "        vertical-align: middle;\n",
       "    }\n",
       "\n",
       "    .dataframe tbody tr th {\n",
       "        vertical-align: top;\n",
       "    }\n",
       "\n",
       "    .dataframe thead th {\n",
       "        text-align: right;\n",
       "    }\n",
       "</style>\n",
       "<table border=\"1\" class=\"dataframe\">\n",
       "  <thead>\n",
       "    <tr style=\"text-align: right;\">\n",
       "      <th></th>\n",
       "      <th>Title</th>\n",
       "      <th>Description</th>\n",
       "      <th>processed_descriptions</th>\n",
       "      <th>vector</th>\n",
       "    </tr>\n",
       "  </thead>\n",
       "  <tbody>\n",
       "    <tr>\n",
       "      <th>0</th>\n",
       "      <td>Movie A</td>\n",
       "      <td>When Hiccup discovers Toothless isn't the onl...</td>\n",
       "      <td>hiccup discover toothless night fury seek hi...</td>\n",
       "      <td>[0.91353595, 0.84936243, -0.4713082, -0.780912...</td>\n",
       "    </tr>\n",
       "    <tr>\n",
       "      <th>1</th>\n",
       "      <td>Movie B</td>\n",
       "      <td>After the death of Superman, several new peop...</td>\n",
       "      <td>death superman new people present possible s...</td>\n",
       "      <td>[-0.74108374, 0.4591325, -2.1978412, -0.482592...</td>\n",
       "    </tr>\n",
       "    <tr>\n",
       "      <th>2</th>\n",
       "      <td>Movie C</td>\n",
       "      <td>A darkness swirls at the center of a world-re...</td>\n",
       "      <td>darkness swirl center world renowne dance co...</td>\n",
       "      <td>[0.80054855, 0.61053735, -1.3081889, -0.617483...</td>\n",
       "    </tr>\n",
       "    <tr>\n",
       "      <th>3</th>\n",
       "      <td>Movie D</td>\n",
       "      <td>A humorous take on Sir Arthur Conan Doyle's c...</td>\n",
       "      <td>humorous sir arthur conan doyle classic myst...</td>\n",
       "      <td>[-0.3125344, -0.1834197, 0.55599266, -0.712061...</td>\n",
       "    </tr>\n",
       "    <tr>\n",
       "      <th>4</th>\n",
       "      <td>Movie E</td>\n",
       "      <td>A 16-year-old girl and her extended family ar...</td>\n",
       "      <td>16 year old girl extended family leave reel ...</td>\n",
       "      <td>[-0.6668734, -0.09248262, -2.0231435, -1.22084...</td>\n",
       "    </tr>\n",
       "  </tbody>\n",
       "</table>\n",
       "</div>"
      ],
      "text/plain": [
       "      Title                                        Description  \\\n",
       "0  Movie A    When Hiccup discovers Toothless isn't the onl...   \n",
       "1  Movie B    After the death of Superman, several new peop...   \n",
       "2  Movie C    A darkness swirls at the center of a world-re...   \n",
       "3  Movie D    A humorous take on Sir Arthur Conan Doyle's c...   \n",
       "4  Movie E    A 16-year-old girl and her extended family ar...   \n",
       "\n",
       "                              processed_descriptions  \\\n",
       "0    hiccup discover toothless night fury seek hi...   \n",
       "1    death superman new people present possible s...   \n",
       "2    darkness swirl center world renowne dance co...   \n",
       "3    humorous sir arthur conan doyle classic myst...   \n",
       "4    16 year old girl extended family leave reel ...   \n",
       "\n",
       "                                              vector  \n",
       "0  [0.91353595, 0.84936243, -0.4713082, -0.780912...  \n",
       "1  [-0.74108374, 0.4591325, -2.1978412, -0.482592...  \n",
       "2  [0.80054855, 0.61053735, -1.3081889, -0.617483...  \n",
       "3  [-0.3125344, -0.1834197, 0.55599266, -0.712061...  \n",
       "4  [-0.6668734, -0.09248262, -2.0231435, -1.22084...  "
      ]
     },
     "execution_count": 8,
     "metadata": {},
     "output_type": "execute_result"
    }
   ],
   "source": [
    "movies_metadata.head()"
   ]
  },
  {
   "cell_type": "markdown",
   "metadata": {},
   "source": [
    "# Phase 4: Building the Recommendation System"
   ]
  },
  {
   "cell_type": "code",
   "execution_count": 69,
   "metadata": {},
   "outputs": [],
   "source": [
    "#! pip install scikit-learn"
   ]
  },
  {
   "cell_type": "code",
   "execution_count": 24,
   "metadata": {},
   "outputs": [],
   "source": [
    "from sklearn.metrics.pairwise import cosine_similarity"
   ]
  },
  {
   "cell_type": "code",
   "execution_count": 25,
   "metadata": {},
   "outputs": [],
   "source": [
    "def movie_recommendation(input_description, n_recommendations=5):\n",
    "    # Process the input description to get its vector\n",
    "    input_vector = get_vectorised(preprocess(input_description))\n",
    "    input_vector = input_vector.reshape(1, -1)  # Reshape for compatibility with cosine_similarity\n",
    "\n",
    "    # Compute similarity with all movies\n",
    "    similarity_scores = cosine_similarity(input_vector, list(movies_metadata['vector']))\n",
    "    \n",
    "    # Get top N similarities\n",
    "    sim_scores_indices = similarity_scores[0].argsort()[-n_recommendations-1:-1][::-1]  # Exclude the input movie itself\n",
    "    \n",
    "    # Get movie titles based on indices\n",
    "    recommended_titles = movies_metadata['Description'].iloc[sim_scores_indices].tolist()\n",
    "    \n",
    "    # Get the corresponding similarity scores\n",
    "    recommended_scores = similarity_scores[0][sim_scores_indices].tolist()\n",
    "    \n",
    "    # Combine titles and scores into a list of tuples\n",
    "    movie_recommendations = list(zip(recommended_titles, recommended_scores))\n",
    "    \n",
    "    return movie_recommendations"
   ]
  },
  {
   "cell_type": "markdown",
   "metadata": {},
   "source": [
    "# Phase 5: Evaluation and Refinement"
   ]
  },
  {
   "cell_type": "code",
   "execution_count": 26,
   "metadata": {},
   "outputs": [
    {
     "data": {
      "text/plain": [
       "[(\" In the last moments of World War II, a young German soldier fighting for survival finds a Nazi captain's uniform. Impersonating an officer, the man quickly takes on the monstrous identity of the perpetrators he is trying to escape from.\",\n",
       "  0.734070897102356),\n",
       " (' The world at an end, a dying mother sends her young son on a quest to find the place that grants wishes.',\n",
       "  0.6901873350143433),\n",
       " (' A darkness swirls at the center of a world-renowned dance company, one that will engulf the artistic director, an ambitious young dancer, and a grieving psychotherapist. Some will succumb to the nightmare. Others will finally wake up.',\n",
       "  0.6323735117912292),\n",
       " (' After the death of Superman, several new people present themselves as possible successors.',\n",
       "  0.623968243598938),\n",
       " (' Corporate analyst and single mom, Jen, tackles Christmas with a business-like approach until her uncle arrives with a handsome stranger in tow.',\n",
       "  0.6114821434020996)]"
      ]
     },
     "execution_count": 26,
     "metadata": {},
     "output_type": "execute_result"
    }
   ],
   "source": [
    "movie_recommendation(\"Will he save their world or destroy it? When the Hulk becomes too dangerous for the Earth, the iluminati trick Hulk into a shuttle and launch him into space to a planet where the  Hulk can live in peace. Unfortunately, Hulk lands on the planet Sakaar where he is sold into slavery and trained as a gladiator.\")"
   ]
  },
  {
   "cell_type": "code",
   "execution_count": null,
   "metadata": {},
   "outputs": [],
   "source": []
  }
 ],
 "metadata": {
  "kernelspec": {
   "display_name": "Python 3 (ipykernel)",
   "language": "python",
   "name": "python3"
  },
  "language_info": {
   "codemirror_mode": {
    "name": "ipython",
    "version": 3
   },
   "file_extension": ".py",
   "mimetype": "text/x-python",
   "name": "python",
   "nbconvert_exporter": "python",
   "pygments_lexer": "ipython3",
   "version": "3.11.6"
  }
 },
 "nbformat": 4,
 "nbformat_minor": 4
}
